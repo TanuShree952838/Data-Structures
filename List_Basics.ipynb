{
  "nbformat": 4,
  "nbformat_minor": 0,
  "metadata": {
    "colab": {
      "name": "List Basics.ipynb",
      "provenance": [],
      "authorship_tag": "ABX9TyPAe9HKpRdgpkRZ/xdm84d+",
      "include_colab_link": true
    },
    "kernelspec": {
      "name": "python3",
      "display_name": "Python 3"
    },
    "language_info": {
      "name": "python"
    }
  },
  "cells": [
    {
      "cell_type": "markdown",
      "metadata": {
        "id": "view-in-github",
        "colab_type": "text"
      },
      "source": [
        "<a href=\"https://colab.research.google.com/github/TanuShree952838/Data-Structures/blob/main/List_Basics.ipynb\" target=\"_parent\"><img src=\"https://colab.research.google.com/assets/colab-badge.svg\" alt=\"Open In Colab\"/></a>"
      ]
    },
    {
      "cell_type": "markdown",
      "source": [
        "**Write a Python program to return the last item in a list ?\n",
        "x = [1,2,3,4,5,6,7,8,9,10]\n",
        "y = [10,20,30,40,50,60,70,80,90,100]\n",
        "z = [110,220,330,440,550,660,770,880,990]**"
      ],
      "metadata": {
        "id": "T8u-HmB6fUWC"
      }
    },
    {
      "cell_type": "code",
      "source": [
        "x = [1,2,3,4,5,6,7,8,9,10]\n",
        "y = [10,20,30,40,50,60,70,80,90,100]\n",
        "z = [110,220,330,440,550,660,770,880,990]\n",
        "print(x[-1],y[-1],z[-1])"
      ],
      "metadata": {
        "colab": {
          "base_uri": "https://localhost:8080/"
        },
        "id": "0urUGAnKfZ70",
        "outputId": "2769def1-7f8e-478e-dc20-446f141a9a98"
      },
      "execution_count": 1,
      "outputs": [
        {
          "output_type": "stream",
          "name": "stdout",
          "text": [
            "10 100 990\n"
          ]
        }
      ]
    },
    {
      "cell_type": "markdown",
      "source": [
        "**Write a Python program to reverse a list.**"
      ],
      "metadata": {
        "id": "Mw9aaTVIft8N"
      }
    },
    {
      "cell_type": "code",
      "source": [
        "def rev_list(list):\n",
        "  return list[::-1]\n",
        "rev_list([4,6,8,9,5,3,5])"
      ],
      "metadata": {
        "colab": {
          "base_uri": "https://localhost:8080/"
        },
        "id": "3VFtiSu7f2wq",
        "outputId": "13a8a172-1725-425f-e58a-293fced4b8af"
      },
      "execution_count": 6,
      "outputs": [
        {
          "output_type": "execute_result",
          "data": {
            "text/plain": [
              "[5, 3, 5, 9, 8, 6, 4]"
            ]
          },
          "metadata": {},
          "execution_count": 6
        }
      ]
    },
    {
      "cell_type": "markdown",
      "source": [
        "**Write a python program that return the difference between first and last items in a list?\n",
        "a = [110,140,170,200,230,260,290,320,350,380,410,440,470,500]**"
      ],
      "metadata": {
        "id": "9NAE-fkggmf3"
      }
    },
    {
      "cell_type": "code",
      "source": [
        "a = [110,140,170,200,230,260,290,320,350,380,410,440,470,500]\n",
        "print(a[-1]-a[0])"
      ],
      "metadata": {
        "colab": {
          "base_uri": "https://localhost:8080/"
        },
        "id": "2yxcLybLgpxp",
        "outputId": "f134ce68-7785-443f-ab26-f218fa8f638e"
      },
      "execution_count": 8,
      "outputs": [
        {
          "output_type": "stream",
          "name": "stdout",
          "text": [
            "390\n"
          ]
        }
      ]
    },
    {
      "cell_type": "markdown",
      "source": [
        "**Write a python program that return the sum of the absolute value of each element of a list :\n",
        "x = [10,20,30,40,50]**"
      ],
      "metadata": {
        "id": "2AT1UaK4g3vG"
      }
    },
    {
      "cell_type": "code",
      "source": [
        "def abs_sum(x):\n",
        "  return sum(map(abs, x))\n",
        "\n",
        "x = [10,20,30,40,50]\n",
        "abs_sum(x)\n"
      ],
      "metadata": {
        "colab": {
          "base_uri": "https://localhost:8080/"
        },
        "id": "YIeYwQ4Bg8AB",
        "outputId": "71d667cb-db53-4cda-c7e7-9fb37e663634"
      },
      "execution_count": 10,
      "outputs": [
        {
          "output_type": "execute_result",
          "data": {
            "text/plain": [
              "150"
            ]
          },
          "metadata": {},
          "execution_count": 10
        }
      ]
    },
    {
      "cell_type": "code",
      "source": [
        "x = [10,20,30,40,50]\n",
        "print(sum(x))"
      ],
      "metadata": {
        "colab": {
          "base_uri": "https://localhost:8080/"
        },
        "id": "zQBYlk9UhMlz",
        "outputId": "b73870e0-4908-4e19-a775-fef6a2c4f6e8"
      },
      "execution_count": 11,
      "outputs": [
        {
          "output_type": "stream",
          "name": "stdout",
          "text": [
            "150\n"
          ]
        }
      ]
    },
    {
      "cell_type": "markdown",
      "source": [
        "**Write a python program that Return the largest number in the list.\n",
        "x = [10,20,30,40,50,60,70,80,90,100]**"
      ],
      "metadata": {
        "id": "pc8SerLFhTJa"
      }
    },
    {
      "cell_type": "code",
      "source": [
        "x = [10,20,30,40,50,60,70,80,90,100]\n",
        "print(max(x))"
      ],
      "metadata": {
        "colab": {
          "base_uri": "https://localhost:8080/"
        },
        "id": "y1c4kHJzhWu7",
        "outputId": "e0f39a49-1e10-4e36-e749-c2bf21edb775"
      },
      "execution_count": 14,
      "outputs": [
        {
          "output_type": "stream",
          "name": "stdout",
          "text": [
            "100\n"
          ]
        }
      ]
    },
    {
      "cell_type": "markdown",
      "source": [
        "**Write a Python program that accepts a list and returns the last item in the list.\n",
        "Try it for the following list:\n",
        "x= [ 1,2,3,4,5,'a','b','c','d','e']**"
      ],
      "metadata": {
        "id": "v1mAF4mBhldp"
      }
    },
    {
      "cell_type": "code",
      "source": [
        "x= [ 1,2,3,4,5,'a','b','c','d','e']\n",
        "print(x[-1])\n"
      ],
      "metadata": {
        "colab": {
          "base_uri": "https://localhost:8080/"
        },
        "id": "XwFpDjPQhrQ4",
        "outputId": "b6771ccb-a970-4294-d026-9d22fe082700"
      },
      "execution_count": 16,
      "outputs": [
        {
          "output_type": "stream",
          "name": "stdout",
          "text": [
            "e\n"
          ]
        }
      ]
    },
    {
      "cell_type": "markdown",
      "source": [
        "**Create a Python program to sort a list in ascending order which starting from the left of the list and,compare numbers by pairs. If the first pair is ordered [smaller number, larger number], and  so on.\n",
        "If the first pair is ordered [larger number, smaller number], swap the two integers before moving on to the next pair.\n",
        "then repeat this process again until you get to the end of the list.\n",
        "Then, return to the beginning of the list and repeats this process again until the entire list is sorted.\n",
        "If the unsorted list is: [5,100,20,15,150,80,210,30], what is the number of swaps you will need?**"
      ],
      "metadata": {
        "id": "_0hHGxVHiA_g"
      }
    },
    {
      "cell_type": "code",
      "source": [
        "def number_of_swaps(lst):\n",
        "    swaps, target = 0, sorted(lst)\n",
        "    while lst != target:\n",
        "        for i in range(len(lst) - 1):\n",
        "            lst[i], lst[i+1] = lst[i+1], lst[i]\n",
        "            swaps += 1\n",
        "        return swaps\n",
        "number_of_swaps([5,100,20,15,150,80,210,30])"
      ],
      "metadata": {
        "colab": {
          "base_uri": "https://localhost:8080/"
        },
        "id": "wTdiWqD3iCnP",
        "outputId": "2b398dc4-41cf-469d-8604-641828e5e240"
      },
      "execution_count": 17,
      "outputs": [
        {
          "output_type": "execute_result",
          "data": {
            "text/plain": [
              "7"
            ]
          },
          "metadata": {},
          "execution_count": 17
        }
      ]
    },
    {
      "cell_type": "markdown",
      "source": [
        "**Create a function that accepts a list of numbers and return both the minimum and maximum numbers, in that order (as a list).**\n"
      ],
      "metadata": {
        "id": "82rff271i4ua"
      }
    },
    {
      "cell_type": "code",
      "source": [
        "def Min_Max(lst):\n",
        "  return [min(lst), max(lst)]\n",
        "Min_Max([5,100,20,15,150,80,210,30])"
      ],
      "metadata": {
        "colab": {
          "base_uri": "https://localhost:8080/"
        },
        "id": "WEf0kcE3i8rX",
        "outputId": "dfabbbc5-6425-4190-88c3-ed5bb000a5c3"
      },
      "execution_count": 20,
      "outputs": [
        {
          "output_type": "execute_result",
          "data": {
            "text/plain": [
              "[5, 210]"
            ]
          },
          "metadata": {},
          "execution_count": 20
        }
      ]
    },
    {
      "cell_type": "markdown",
      "source": [
        "**Write a Python program that complete an array with random numbers:**"
      ],
      "metadata": {
        "id": "fMWwtYrmjY1d"
      }
    },
    {
      "cell_type": "code",
      "source": [
        "from random import randint\n",
        "x = 20\n",
        "array =[]\n",
        "for i in range(x):\n",
        "    array.append(randint(1,99))\n",
        "for i in array:\n",
        "    print(i, end= ' ')\n",
        "print()"
      ],
      "metadata": {
        "colab": {
          "base_uri": "https://localhost:8080/"
        },
        "id": "mllJrKqDjeCF",
        "outputId": "b0688a2d-8f72-4081-9dfd-e2095d120f5c"
      },
      "execution_count": 24,
      "outputs": [
        {
          "output_type": "stream",
          "name": "stdout",
          "text": [
            "88 61 15 74 18 47 7 58 95 32 78 9 13 87 40 47 50 21 68 89 \n"
          ]
        }
      ]
    },
    {
      "cell_type": "markdown",
      "source": [
        "**Create a Python program that takes a number and returns a list with the digits of the number in reverse order.**"
      ],
      "metadata": {
        "id": "uznxRKjkj_1h"
      }
    },
    {
      "cell_type": "code",
      "source": [
        "def reverse_list(num):\n",
        "  return [int(i) for i in str(num)[::-1]]\n",
        "reverse_list(8945732)"
      ],
      "metadata": {
        "colab": {
          "base_uri": "https://localhost:8080/"
        },
        "id": "O4GKHP4SkDM1",
        "outputId": "1fd0acf1-9ab3-49d1-b5c6-c5e39032cccb"
      },
      "execution_count": 27,
      "outputs": [
        {
          "output_type": "execute_result",
          "data": {
            "text/plain": [
              "[2, 3, 7, 5, 4, 9, 8]"
            ]
          },
          "metadata": {},
          "execution_count": 27
        }
      ]
    },
    {
      "cell_type": "markdown",
      "source": [
        ""
      ],
      "metadata": {
        "id": "5HHA3HQUjUX-"
      }
    }
  ]
}