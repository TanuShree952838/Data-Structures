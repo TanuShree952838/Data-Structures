{
  "nbformat": 4,
  "nbformat_minor": 0,
  "metadata": {
    "colab": {
      "name": "Move all negative numbers to beginning and positive to end with constant extra space.ipynb",
      "provenance": [],
      "authorship_tag": "ABX9TyNS+AgOWLCJNJJYhixwv8YD",
      "include_colab_link": true
    },
    "kernelspec": {
      "name": "python3",
      "display_name": "Python 3"
    },
    "language_info": {
      "name": "python"
    }
  },
  "cells": [
    {
      "cell_type": "markdown",
      "metadata": {
        "id": "view-in-github",
        "colab_type": "text"
      },
      "source": [
        "<a href=\"https://colab.research.google.com/github/TanuShree952838/Data-Structures/blob/main/Move_all_negative_numbers_to_beginning_and_positive_to_end_with_constant_extra_space.ipynb\" target=\"_parent\"><img src=\"https://colab.research.google.com/assets/colab-badge.svg\" alt=\"Open In Colab\"/></a>"
      ]
    },
    {
      "cell_type": "code",
      "execution_count": 5,
      "metadata": {
        "colab": {
          "base_uri": "https://localhost:8080/"
        },
        "id": "9tFb9RLisLuO",
        "outputId": "7ee1a4e7-969c-47ca-fe29-07ae09a9d632"
      },
      "outputs": [
        {
          "output_type": "stream",
          "name": "stdout",
          "text": [
            "7\n",
            "4 -5 7 -6 3 -5 2\n",
            "-5 -6 -5 4 3 7 2 \n"
          ]
        }
      ],
      "source": [
        "def rearrange(arr,n):\n",
        "  j = 0\n",
        "  for i in range(n):\n",
        "    if arr[i]<0:\n",
        "      temp = arr[i]\n",
        "      arr[i] = arr[j]\n",
        "      arr[j] = temp\n",
        "      j+=1\n",
        "  return arr\n",
        "n = int(input())\n",
        "arr = [int(x) for x in input().strip().split()]\n",
        "solve = rearrange(arr,n)\n",
        "for i in arr:\n",
        "  print(i, end = \" \")\n",
        "print()"
      ]
    },
    {
      "cell_type": "code",
      "source": [
        "def rearrange(arr,n):\n",
        "  left = 0\n",
        "  right = n-1\n",
        "  if arr[left]< 0 and arr[right]>0:\n",
        "    left+=1\n",
        "    right-=1\n",
        "  elif arr[left]>0 and arr[right]<0:\n",
        "    arr[left],arr[right]=arr[right],arr[left]\n",
        "    left+=1\n",
        "    right-=1\n",
        "  elif arr[left]<0 and arr[right]<0:\n",
        "    left+=1\n",
        "  else:\n",
        "    right-=1\n",
        "\n",
        "n = int(input())\n",
        "arr = [int(x) for x in input().strip().split()]\n",
        "solve = rearrange(arr,n)\n",
        "for i in range(len(arr)):\n",
        "  print(arr[i], end = \" \")\n",
        "print()"
      ],
      "metadata": {
        "colab": {
          "base_uri": "https://localhost:8080/"
        },
        "id": "nGyHHzkkH_YU",
        "outputId": "d3fcde03-104f-4376-856c-38c2e5770481"
      },
      "execution_count": 15,
      "outputs": [
        {
          "output_type": "stream",
          "name": "stdout",
          "text": [
            "5\n",
            "3 -4 -12  3 -8\n",
            "-8 -4 -12 3 3 \n"
          ]
        }
      ]
    }
  ]
}