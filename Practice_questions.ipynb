{
  "nbformat": 4,
  "nbformat_minor": 0,
  "metadata": {
    "colab": {
      "name": "Practice questions.ipynb",
      "provenance": [],
      "collapsed_sections": [],
      "authorship_tag": "ABX9TyOYAO10r76IiRShx4TwivqT",
      "include_colab_link": true
    },
    "kernelspec": {
      "name": "python3",
      "display_name": "Python 3"
    },
    "language_info": {
      "name": "python"
    }
  },
  "cells": [
    {
      "cell_type": "markdown",
      "metadata": {
        "id": "view-in-github",
        "colab_type": "text"
      },
      "source": [
        "<a href=\"https://colab.research.google.com/github/TanuShree952838/Data-Structures/blob/main/Practice_questions.ipynb\" target=\"_parent\"><img src=\"https://colab.research.google.com/assets/colab-badge.svg\" alt=\"Open In Colab\"/></a>"
      ]
    },
    {
      "cell_type": "markdown",
      "source": [
        "**Write a python program that takes a name and returns a greeting in the form of a string.**"
      ],
      "metadata": {
        "id": "Ynjxg-Kq0yJt"
      }
    },
    {
      "cell_type": "code",
      "source": [
        "def hello_there(name):\n",
        "  return \"Hello {}!\".format(name)\n",
        "hello_there(input())"
      ],
      "metadata": {
        "colab": {
          "base_uri": "https://localhost:8080/",
          "height": 52
        },
        "id": "UrPoKy4M1LS5",
        "outputId": "82a5afa4-fdc2-43e5-f25e-b81aae39db92"
      },
      "execution_count": 2,
      "outputs": [
        {
          "name": "stdout",
          "output_type": "stream",
          "text": [
            "Tanushree\n"
          ]
        },
        {
          "output_type": "execute_result",
          "data": {
            "text/plain": [
              "'Hello Tanushree!'"
            ],
            "application/vnd.google.colaboratory.intrinsic+json": {
              "type": "string"
            }
          },
          "metadata": {},
          "execution_count": 2
        }
      ]
    },
    {
      "cell_type": "markdown",
      "source": [
        "**Write a Python program that Create a function that gives True if a string is empty and False otherwise.**\n"
      ],
      "metadata": {
        "id": "uEo-Jxhh34lz"
      }
    },
    {
      "cell_type": "code",
      "source": [
        "def string_check(string):\n",
        "      return not string\n",
        "      string_check('')\n",
        "string_check(input())"
      ],
      "metadata": {
        "colab": {
          "base_uri": "https://localhost:8080/"
        },
        "id": "LDBA6j5739jX",
        "outputId": "af7773f7-dd05-4032-f7cd-763f55266cc1"
      },
      "execution_count": 10,
      "outputs": [
        {
          "name": "stdout",
          "output_type": "stream",
          "text": [
            "Tanushree\n"
          ]
        },
        {
          "output_type": "execute_result",
          "data": {
            "text/plain": [
              "False"
            ]
          },
          "metadata": {},
          "execution_count": 10
        }
      ]
    },
    {
      "cell_type": "markdown",
      "source": [
        " **Write a Python program that remove the extra spaces from the following string:\n",
        "' I am        learning Python      object        oriented     programming '**\n",
        "\n"
      ],
      "metadata": {
        "id": "6whBgFma7qqj"
      }
    },
    {
      "cell_type": "code",
      "source": [
        "def remove_extra_spacing(st):\n",
        "  return ' '.join(st.split())\n",
        "remove_extra_spacing('    I am learning Python object oriented programming    ')  "
      ],
      "metadata": {
        "colab": {
          "base_uri": "https://localhost:8080/",
          "height": 35
        },
        "id": "k4h8ORXt7wtY",
        "outputId": "f38a50ce-d3c3-4c27-b689-4e1ae0af0f64"
      },
      "execution_count": 12,
      "outputs": [
        {
          "output_type": "execute_result",
          "data": {
            "text/plain": [
              "'I am learning Python object oriented programming'"
            ],
            "application/vnd.google.colaboratory.intrinsic+json": {
              "type": "string"
            }
          },
          "metadata": {},
          "execution_count": 12
        }
      ]
    },
    {
      "cell_type": "markdown",
      "source": [
        "**Write a python program that reverse the case of string :\n",
        "string = \"I am a python developer\"**"
      ],
      "metadata": {
        "id": "sjhbDgdbDGPe"
      }
    },
    {
      "cell_type": "code",
      "source": [
        "def reverse_string(string):\n",
        "  return string.swapcase()\n",
        "reverse_string(\"I am a python developer\")"
      ],
      "metadata": {
        "colab": {
          "base_uri": "https://localhost:8080/",
          "height": 35
        },
        "id": "42zDTxO2DM5F",
        "outputId": "bce8c09c-72c8-45b6-c128-45fb6f27d3cf"
      },
      "execution_count": 15,
      "outputs": [
        {
          "output_type": "execute_result",
          "data": {
            "text/plain": [
              "'i AM A PYTHON DEVELOPER'"
            ],
            "application/vnd.google.colaboratory.intrinsic+json": {
              "type": "string"
            }
          },
          "metadata": {},
          "execution_count": 15
        }
      ]
    },
    {
      "cell_type": "markdown",
      "source": [
        "**Display the number of letters in the string:\n",
        "my_word = \"Python is wonderful\"**"
      ],
      "metadata": {
        "id": "rYVP2w3aECdn"
      }
    },
    {
      "cell_type": "code",
      "source": [
        "def num_of_letter(my_word):\n",
        "  return len(my_word)\n",
        "num_of_letter(\"Python is wonderful\")"
      ],
      "metadata": {
        "colab": {
          "base_uri": "https://localhost:8080/"
        },
        "id": "sOGShftREolO",
        "outputId": "365620ca-893c-4096-96b8-00c7aff3a770"
      },
      "execution_count": 16,
      "outputs": [
        {
          "output_type": "execute_result",
          "data": {
            "text/plain": [
              "19"
            ]
          },
          "metadata": {},
          "execution_count": 16
        }
      ]
    },
    {
      "cell_type": "markdown",
      "source": [
        "**Concatenate the following two strings together:\n",
        "string_left = \"Spider\"\n",
        "string_right = \"man\"**"
      ],
      "metadata": {
        "id": "x7bF5fH_E-uV"
      }
    },
    {
      "cell_type": "code",
      "source": [
        "def string_concentration(string_left,string_right):\n",
        "  return string_left+string_right\n",
        "string_concentration(\"Spider\",\"man\")"
      ],
      "metadata": {
        "colab": {
          "base_uri": "https://localhost:8080/",
          "height": 35
        },
        "id": "9AZRUZCsFDhR",
        "outputId": "aca21609-b493-4262-d9db-1924370f3acc"
      },
      "execution_count": 18,
      "outputs": [
        {
          "output_type": "execute_result",
          "data": {
            "text/plain": [
              "'Spiderman'"
            ],
            "application/vnd.google.colaboratory.intrinsic+json": {
              "type": "string"
            }
          },
          "metadata": {},
          "execution_count": 18
        }
      ]
    },
    {
      "cell_type": "markdown",
      "source": [
        "**Display two strings together, with a space in between\n",
        "string_one = \"Python\"\n",
        "string_two = \"Programming\"**"
      ],
      "metadata": {
        "id": "oo0XjcC0F_DK"
      }
    },
    {
      "cell_type": "code",
      "source": [
        "def string_space(string_one, string_two):\n",
        "    print(string_one + \" \" + string_two)\n",
        "string_space(\"Python\", \"Programming\")"
      ],
      "metadata": {
        "colab": {
          "base_uri": "https://localhost:8080/"
        },
        "id": "Xg4xJtUiGAXc",
        "outputId": "2bda8753-9bf5-45e8-9868-2e81bc36a352"
      },
      "execution_count": 22,
      "outputs": [
        {
          "output_type": "stream",
          "name": "stdout",
          "text": [
            "Python Programming\n"
          ]
        }
      ]
    },
    {
      "cell_type": "markdown",
      "source": [
        "**Use sub scripting to display part of a string\n",
        "\"Python\"**"
      ],
      "metadata": {
        "id": "_cT9srUSHyxh"
      }
    },
    {
      "cell_type": "code",
      "source": [
        "print(\"Python\"[2:6])"
      ],
      "metadata": {
        "colab": {
          "base_uri": "https://localhost:8080/"
        },
        "id": "9rbZi_ebH4jV",
        "outputId": "1603a307-8517-4714-eb3b-3f388cdfe2cc"
      },
      "execution_count": 23,
      "outputs": [
        {
          "output_type": "stream",
          "name": "stdout",
          "text": [
            "thon\n"
          ]
        }
      ]
    },
    {
      "cell_type": "markdown",
      "source": [
        "**Switch the case of the following strings into lower case :\n",
        "string1 = \"Python\"\n",
        "string2 = \"Programming\"\n",
        "string3 = \"Language\"**"
      ],
      "metadata": {
        "id": "CAiuObmgIA5f"
      }
    },
    {
      "cell_type": "code",
      "source": [
        "string1 = \"Python\" \n",
        "string2 = \"Programming\" \n",
        "string3 = \"Language\"\n",
        "print(string1.lower())\n",
        "print(string2.lower())\n",
        "print(string3.lower())"
      ],
      "metadata": {
        "colab": {
          "base_uri": "https://localhost:8080/"
        },
        "id": "8GSCUyz7IMA1",
        "outputId": "e0423fd8-4c43-4408-c52a-28379985cbb1"
      },
      "execution_count": 24,
      "outputs": [
        {
          "output_type": "stream",
          "name": "stdout",
          "text": [
            "python\n",
            "programming\n",
            "language\n"
          ]
        }
      ]
    },
    {
      "cell_type": "markdown",
      "source": [
        "**Replace every occurrence of the character \"s\" with the character \"x\"\n",
        "phrase = \"Somebody said something to Sara.\"**"
      ],
      "metadata": {
        "id": "lg-f3hzVIrTU"
      }
    },
    {
      "cell_type": "code",
      "source": [
        "phrase = \"Somebody said something to Sara.\"\n",
        "print(phrase.replace(\"s\", \"x\"))"
      ],
      "metadata": {
        "colab": {
          "base_uri": "https://localhost:8080/"
        },
        "id": "Bur7aR2LIzLH",
        "outputId": "38cf5f29-de24-43ff-f387-3b57983b1460"
      },
      "execution_count": 26,
      "outputs": [
        {
          "output_type": "stream",
          "name": "stdout",
          "text": [
            "Somebody xaid xomething to Sara.\n"
          ]
        }
      ]
    },
    {
      "cell_type": "markdown",
      "source": [
        "**In one of  Famous Coffee Mixer shops chain every 6 days with every day one cup of coffee customer buys, customer gets a 7th cup free in the weekend (Sunday)!\n",
        "Create a Python program that takes numbers of cups bought and return the total number of cups that customer would get and\n",
        "also the number of  free cups for one month( for both 30 days & 31 days):**"
      ],
      "metadata": {
        "id": "N8UTYSKIMeDq"
      }
    },
    {
      "cell_type": "code",
      "source": [
        "n = 30\n",
        "def total_cups_cust(n):\n",
        "  return n//6 + n\n",
        "total_cups = total_cups_cust(n)\n",
        "def total_cups_gets_free(total_cups):\n",
        "  return round(total_cups/6, 0)\n",
        "print(('Total cups for 30 days = ') + str(total_cups_cust(n)))\n",
        "print(('Free cups in 30 days = ') + str(total_cups_gets_free(total_cups)))\n",
        "     \n",
        "n = 31\n",
        "print(('Total cups for 31 days = ') + str(total_cups_cust(n)))\n",
        "print(('Free cups in 31 days = ') + str(total_cups_gets_free(total_cups)))"
      ],
      "metadata": {
        "colab": {
          "base_uri": "https://localhost:8080/"
        },
        "id": "Nmv6lzgrOHkR",
        "outputId": "c08a1f49-fb53-449e-fc83-4542312446e9"
      },
      "execution_count": 28,
      "outputs": [
        {
          "output_type": "stream",
          "name": "stdout",
          "text": [
            "Total cups for 30 days = 35\n",
            "Free cups in 30 days = 6.0\n",
            "Total cups for 31 days = 36\n",
            "Free cups in 31 days = 6.0\n"
          ]
        }
      ]
    }
  ]
}