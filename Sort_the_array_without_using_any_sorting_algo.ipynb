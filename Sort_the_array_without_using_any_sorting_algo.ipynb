{
  "nbformat": 4,
  "nbformat_minor": 0,
  "metadata": {
    "colab": {
      "name": "Sort the array without using any sorting algo.ipynb",
      "provenance": [],
      "authorship_tag": "ABX9TyMT9ZCCnJ6gc+5lbCpzlPe2",
      "include_colab_link": true
    },
    "kernelspec": {
      "name": "python3",
      "display_name": "Python 3"
    },
    "language_info": {
      "name": "python"
    }
  },
  "cells": [
    {
      "cell_type": "markdown",
      "metadata": {
        "id": "view-in-github",
        "colab_type": "text"
      },
      "source": [
        "<a href=\"https://colab.research.google.com/github/TanuShree952838/Data-Structures/blob/main/Sort_the_array_without_using_any_sorting_algo.ipynb\" target=\"_parent\"><img src=\"https://colab.research.google.com/assets/colab-badge.svg\" alt=\"Open In Colab\"/></a>"
      ]
    },
    {
      "cell_type": "code",
      "execution_count": 6,
      "metadata": {
        "colab": {
          "base_uri": "https://localhost:8080/"
        },
        "id": "I49NgASpNV-4",
        "outputId": "1fb160be-70cd-4c30-820d-57027b75c6e0"
      },
      "outputs": [
        {
          "output_type": "stream",
          "name": "stdout",
          "text": [
            "1\n",
            "5\n",
            "2 1 2 0 2\n",
            "0 1 2 2 2 \n"
          ]
        }
      ],
      "source": [
        "def sorting(arr,n):\n",
        "  low = 0\n",
        "  high = n-1\n",
        "  mid = 0\n",
        "  while mid<=high:\n",
        "    if arr[mid]==0:\n",
        "      arr[mid],arr[low] = arr[low],arr[mid] \n",
        "      mid+=1\n",
        "      low+=1\n",
        "    elif arr[mid]==1:\n",
        "      mid+=1\n",
        "    else:\n",
        "      arr[mid],arr[high] = arr[high],arr[mid]\n",
        "      high-=1\n",
        "t = int(input())\n",
        "for _ in range(t):\n",
        "  n = int(input())\n",
        "  arr = [int(x) for x in input().strip().split()]   \n",
        "  sol = sorting(arr,n)\n",
        "  for i in arr:\n",
        "    print(i, end = \" \")    \n",
        "  print()                          "
      ]
    }
  ]
}