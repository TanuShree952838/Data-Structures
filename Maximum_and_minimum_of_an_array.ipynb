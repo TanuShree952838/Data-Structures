{
  "nbformat": 4,
  "nbformat_minor": 0,
  "metadata": {
    "colab": {
      "name": "Maximum and minimum of an array.ipynb",
      "provenance": [],
      "authorship_tag": "ABX9TyPX6ADYDVQfmJ1FqN/yaglu",
      "include_colab_link": true
    },
    "kernelspec": {
      "name": "python3",
      "display_name": "Python 3"
    },
    "language_info": {
      "name": "python"
    }
  },
  "cells": [
    {
      "cell_type": "markdown",
      "metadata": {
        "id": "view-in-github",
        "colab_type": "text"
      },
      "source": [
        "<a href=\"https://colab.research.google.com/github/TanuShree952838/Data-Structures/blob/main/Maximum_and_minimum_of_an_array.ipynb\" target=\"_parent\"><img src=\"https://colab.research.google.com/assets/colab-badge.svg\" alt=\"Open In Colab\"/></a>"
      ]
    },
    {
      "cell_type": "code",
      "execution_count": 6,
      "metadata": {
        "colab": {
          "base_uri": "https://localhost:8080/"
        },
        "id": "-Cs0iWRuBMkv",
        "outputId": "7367b750-460f-4cdd-87c7-39446dbc14a3"
      },
      "outputs": [
        {
          "output_type": "stream",
          "name": "stdout",
          "text": [
            "1\n",
            "6\n",
            "54 23 65 34 22 79\n",
            "22 79\n"
          ]
        }
      ],
      "source": [
        "def minmax_arr(a,n):\n",
        "  if n%2 == 0:\n",
        "    mn = min(a[0],a[1])\n",
        "    mx = max(a[0],a[1])\n",
        "    i = 2\n",
        "  else:\n",
        "    mn = mx = a[0]\n",
        "    i = 1\n",
        "  while i<n-1:\n",
        "    if a[i]<a[i+1]:\n",
        "      mx = max(mx,a[i+1])\n",
        "      mn = min(mn,a[i])\n",
        "    else:\n",
        "      mx = max(mx, a[i])\n",
        "      mn = min(mn, a[i+1])\n",
        "    i+=2\n",
        "  return mn,mx\n",
        "  \n",
        "T = int(input())\n",
        "while T>0:\n",
        "  n = int(input())\n",
        "  a = [int(x) for x in input().strip().split()]\n",
        "  product = minmax_arr(a,n)\n",
        "  print(product[0], end= \" \")\n",
        "  print(product[1])\n",
        "  T-=1"
      ]
    },
    {
      "cell_type": "code",
      "source": [
        "def minmax_arr(a,n):\n",
        "  return min(a), max(a)\n",
        "\n",
        "n = int(input())\n",
        "a = [int(x) for x in input().strip().split()]\n",
        "product= minmax_arr(a,n)\n",
        "print(product[0], end = \" \")\n",
        "print(product[1])"
      ],
      "metadata": {
        "colab": {
          "base_uri": "https://localhost:8080/"
        },
        "id": "aG6voit2GL3s",
        "outputId": "00166be0-d910-40b1-e1ed-eea48570417f"
      },
      "execution_count": 5,
      "outputs": [
        {
          "output_type": "stream",
          "name": "stdout",
          "text": [
            "5\n",
            "5 3 6 8 9\n",
            "3 9\n"
          ]
        }
      ]
    }
  ]
}