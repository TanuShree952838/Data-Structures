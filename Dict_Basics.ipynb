{
  "nbformat": 4,
  "nbformat_minor": 0,
  "metadata": {
    "colab": {
      "name": "Dict_Basics.ipynb",
      "provenance": [],
      "authorship_tag": "ABX9TyP0xQz5dEiHnY5oX7Uc60sZ",
      "include_colab_link": true
    },
    "kernelspec": {
      "name": "python3",
      "display_name": "Python 3"
    },
    "language_info": {
      "name": "python"
    }
  },
  "cells": [
    {
      "cell_type": "markdown",
      "metadata": {
        "id": "view-in-github",
        "colab_type": "text"
      },
      "source": [
        "<a href=\"https://colab.research.google.com/github/TanuShree952838/Data-Structures/blob/main/Dict_Basics.ipynb\" target=\"_parent\"><img src=\"https://colab.research.google.com/assets/colab-badge.svg\" alt=\"Open In Colab\"/></a>"
      ]
    },
    {
      "cell_type": "markdown",
      "source": [
        "**Write a Python program that returns True if a dictionary is empty, and False otherwise.:**"
      ],
      "metadata": {
        "id": "rpFK8SZulXjx"
      }
    },
    {
      "cell_type": "code",
      "source": [
        "dict1 = {1:\"A\",2:\"B\",3:\"C\"}\n",
        "dict2 = {}\n",
        "def is_empty(dictionary):\n",
        "  return not dictionary\n",
        "print(is_empty(dict1))\n",
        "print(is_empty(dict2))"
      ],
      "metadata": {
        "colab": {
          "base_uri": "https://localhost:8080/"
        },
        "id": "4S4SvuVMlc-e",
        "outputId": "7f5251f9-5586-4e03-fac1-b925fa130c89"
      },
      "execution_count": 13,
      "outputs": [
        {
          "output_type": "stream",
          "name": "stdout",
          "text": [
            "False\n",
            "True\n"
          ]
        }
      ]
    },
    {
      "cell_type": "markdown",
      "source": [
        "**Create a Python program that takes a dictionary argument sizes (contains width, length, height keys) and returns the volume of the box.**"
      ],
      "metadata": {
        "id": "pbHD5rEOnuBq"
      }
    },
    {
      "cell_type": "code",
      "source": [
        "size = {\"w\": 13, \"l\":9, \"h\":8}\n",
        "def volume_of_box(sizes):\n",
        "  w, l, h = sizes.values()\n",
        "  return w * l * h\n",
        "volume_of_box(size)"
      ],
      "metadata": {
        "colab": {
          "base_uri": "https://localhost:8080/"
        },
        "id": "oORriTpAnwTs",
        "outputId": "f627c8c5-a05b-4b53-d648-4d330504b602"
      },
      "execution_count": 16,
      "outputs": [
        {
          "output_type": "execute_result",
          "data": {
            "text/plain": [
              "936"
            ]
          },
          "metadata": {},
          "execution_count": 16
        }
      ]
    },
    {
      "cell_type": "markdown",
      "source": [
        "**Write a Python program that creates a dictionary with each (key, value) pair being the (lower case, upper case) versions of a letter.**"
      ],
      "metadata": {
        "id": "xfdEjJzrpWKN"
      }
    },
    {
      "cell_type": "code",
      "source": [
        "def mapping(letters):\n",
        "  dict_1 = {}\n",
        "  for i in letters:\n",
        "    dict_1[i]=i.upper()\n",
        "    return dict_1\n",
        "mapping('a')"
      ],
      "metadata": {
        "colab": {
          "base_uri": "https://localhost:8080/"
        },
        "id": "WgD3E7c7peN4",
        "outputId": "a4e199ff-3fa8-4ee9-f6ca-a994eb016622"
      },
      "execution_count": 26,
      "outputs": [
        {
          "output_type": "execute_result",
          "data": {
            "text/plain": [
              "{'a': 'A'}"
            ]
          },
          "metadata": {},
          "execution_count": 26
        }
      ]
    },
    {
      "cell_type": "markdown",
      "source": [
        "**Create a Python program that takes a dictionary of students and returns a list of student names in alphabetical order.**\n",
        "\n"
      ],
      "metadata": {
        "id": "O9yqJu9Gq1H1"
      }
    },
    {
      "cell_type": "code",
      "source": [
        "students = {1:\"Ram\",2:\"Sita\",3:\"Rohan\",4:\"Neha\"}\n",
        "def get_student_names(students):\n",
        "  return sorted(students.values())\n",
        "get_student_names(students)"
      ],
      "metadata": {
        "colab": {
          "base_uri": "https://localhost:8080/"
        },
        "id": "MB6NLen0q5Pv",
        "outputId": "4c32f6df-c35c-4f45-90c9-0ae951cd5a01"
      },
      "execution_count": 36,
      "outputs": [
        {
          "output_type": "execute_result",
          "data": {
            "text/plain": [
              "['Neha', 'Ram', 'Rohan', 'Sita']"
            ]
          },
          "metadata": {},
          "execution_count": 36
        }
      ]
    },
    {
      "cell_type": "markdown",
      "source": [
        "**Write a Python program that takes a string and calculates the number of letters and digits within it. Return the result in a dictionary.**"
      ],
      "metadata": {
        "id": "j2iAKyZFwori"
      }
    },
    {
      "cell_type": "code",
      "source": [
        "def count_all(txt):\n",
        "  return {\n",
        "    'LETTERS': sum(1 for x in txt if x.isalpha()),\n",
        "    'DIGITS': sum(1 for x in txt if x.isnumeric()),\n",
        "  }\n",
        " \n",
        "count_all(\"Python is the number 1 modern language from 4 programming languages\")\n"
      ],
      "metadata": {
        "colab": {
          "base_uri": "https://localhost:8080/"
        },
        "id": "yGtZKNAAw77O",
        "outputId": "156df13a-5998-472e-ce3d-73a8f3b6ec7d"
      },
      "execution_count": 37,
      "outputs": [
        {
          "output_type": "execute_result",
          "data": {
            "text/plain": [
              "{'DIGITS': 2, 'LETTERS': 55}"
            ]
          },
          "metadata": {},
          "execution_count": 37
        }
      ]
    },
    {
      "cell_type": "markdown",
      "source": [
        ""
      ],
      "metadata": {
        "id": "BkahgHwhxI3r"
      }
    },
    {
      "cell_type": "markdown",
      "source": [
        ""
      ],
      "metadata": {
        "id": "IA5wcHA-qm4t"
      }
    }
  ]
}