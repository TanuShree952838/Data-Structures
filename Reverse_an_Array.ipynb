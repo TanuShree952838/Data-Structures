{
  "nbformat": 4,
  "nbformat_minor": 0,
  "metadata": {
    "colab": {
      "name": "Reverse an Array.ipynb",
      "provenance": [],
      "authorship_tag": "ABX9TyMBvzNGuFyoLzRx/mm5uaiR",
      "include_colab_link": true
    },
    "kernelspec": {
      "name": "python3",
      "display_name": "Python 3"
    },
    "language_info": {
      "name": "python"
    }
  },
  "cells": [
    {
      "cell_type": "markdown",
      "metadata": {
        "id": "view-in-github",
        "colab_type": "text"
      },
      "source": [
        "<a href=\"https://colab.research.google.com/github/TanuShree952838/Data-Structures/blob/main/Reverse_an_Array.ipynb\" target=\"_parent\"><img src=\"https://colab.research.google.com/assets/colab-badge.svg\" alt=\"Open In Colab\"/></a>"
      ]
    },
    {
      "cell_type": "code",
      "execution_count": 11,
      "metadata": {
        "colab": {
          "base_uri": "https://localhost:8080/"
        },
        "id": "GPB_Gg9VPHsR",
        "outputId": "095abc11-11c5-4e86-ff66-dabe6a38f4f6"
      },
      "outputs": [
        {
          "output_type": "stream",
          "name": "stdout",
          "text": [
            "1\n",
            "4\n",
            "4 3 2 1\n",
            "1 2 3 4\n"
          ]
        }
      ],
      "source": [
        "def reverse_arr(arr, start, end):\n",
        "    while start<end:\n",
        "       arr[start],arr[end] = arr[end], arr[start]\n",
        "       start +=1\n",
        "       end-=1\n",
        "    res = ' '.join(arr)\n",
        "    return res\n",
        "t = int(input())\n",
        "for i in range(t):\n",
        "    n = int(input())\n",
        "    arr = list(map(str, input().split()))\n",
        "    print(reverse_arr(arr,0,n-1))"
      ]
    },
    {
      "cell_type": "code",
      "source": [
        "def reverse_arr(A,start,end):\n",
        "  if start>=end:\n",
        "    return\n",
        "  A[start],A[end] = A[end],A[start]\n",
        "  reverse_arr(A,start+1,end-1)\n",
        "  res = ' '.join(arr)\n",
        "  return res\n",
        "t = int(input())\n",
        "for i in range(t):\n",
        "    n = int(input())\n",
        "    A = list(map(str, input().split()))\n",
        "    print(reverse_arr(arr,0,n-1))"
      ],
      "metadata": {
        "colab": {
          "base_uri": "https://localhost:8080/"
        },
        "id": "haTURMgrc4E7",
        "outputId": "74bbd331-b663-490a-9f06-90025a840c76"
      },
      "execution_count": 24,
      "outputs": [
        {
          "output_type": "stream",
          "name": "stdout",
          "text": [
            "1\n",
            "4\n",
            "4 3 2 1\n",
            "1 2 3 4\n"
          ]
        }
      ]
    },
    {
      "cell_type": "code",
      "source": [
        "def reverse_arr(A):\n",
        "  res = ' '.join(A)\n",
        "  return res[::-1]  \n",
        "t = int(input())\n",
        "for i in range(t):\n",
        "    n = int(input())\n",
        "    A = list(map(str, input().split()))\n",
        "    print(reverse_arr(A))"
      ],
      "metadata": {
        "colab": {
          "base_uri": "https://localhost:8080/"
        },
        "id": "9Np2A2Xzdss-",
        "outputId": "e051fd88-937e-4959-d992-d9b3fa2fe436"
      },
      "execution_count": 34,
      "outputs": [
        {
          "output_type": "stream",
          "name": "stdout",
          "text": [
            "1\n",
            "4\n",
            "4 3 2 1\n",
            "1 2 3 4\n"
          ]
        }
      ]
    }
  ]
}